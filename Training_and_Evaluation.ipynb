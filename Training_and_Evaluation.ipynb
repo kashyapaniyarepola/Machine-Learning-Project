{
  "nbformat": 4,
  "nbformat_minor": 0,
  "metadata": {
    "colab": {
      "name": "Training_and_Evaluation.ipynb",
      "provenance": [],
      "collapsed_sections": []
    },
    "kernelspec": {
      "name": "python3",
      "display_name": "Python 3"
    },
    "language_info": {
      "name": "python"
    }
  },
  "cells": [
    {
      "cell_type": "code",
      "metadata": {
        "id": "Dt5oiXwtLo6n"
      },
      "source": [
        "import pandas as pd\n",
        "import numpy as np"
      ],
      "execution_count": null,
      "outputs": []
    },
    {
      "cell_type": "code",
      "metadata": {
        "id": "XU1tEtUtL9YE"
      },
      "source": [
        "train_data=pd.read_csv('/content/drive/MyDrive/ML Project/clean_training_data.csv')\n",
        "test_data=pd.read_csv('/content/drive/MyDrive/ML Project/clean_testing_data.csv')"
      ],
      "execution_count": null,
      "outputs": []
    },
    {
      "cell_type": "code",
      "metadata": {
        "colab": {
          "base_uri": "https://localhost:8080/"
        },
        "id": "yCVIngKIMLun",
        "outputId": "c08e9c42-c0e1-43da-ef18-e3931abd292e"
      },
      "source": [
        "train_data.shape,test_data.shape"
      ],
      "execution_count": null,
      "outputs": [
        {
          "output_type": "execute_result",
          "data": {
            "text/plain": [
              "((59400, 26), (14850, 25))"
            ]
          },
          "metadata": {},
          "execution_count": 3
        }
      ]
    },
    {
      "cell_type": "code",
      "metadata": {
        "id": "nhJfNWcgMTvX"
      },
      "source": [
        "#drop this unnamed column \n",
        "train_data.drop('Unnamed: 0', axis=1, inplace=True)\n",
        "test_data.drop('Unnamed: 0', axis=1, inplace=True)\n",
        "target=train_data.pop('status_group')"
      ],
      "execution_count": null,
      "outputs": []
    },
    {
      "cell_type": "code",
      "metadata": {
        "colab": {
          "base_uri": "https://localhost:8080/"
        },
        "id": "Lzq_zibKMxYI",
        "outputId": "b40124ef-1f11-487d-d213-f2c67ae84a13"
      },
      "source": [
        "train_data['train']=1\n",
        "test_data['train']=0\n",
        "train_data.info()"
      ],
      "execution_count": null,
      "outputs": [
        {
          "output_type": "stream",
          "name": "stdout",
          "text": [
            "<class 'pandas.core.frame.DataFrame'>\n",
            "RangeIndex: 59400 entries, 0 to 59399\n",
            "Data columns (total 25 columns):\n",
            " #   Column                 Non-Null Count  Dtype  \n",
            "---  ------                 --------------  -----  \n",
            " 0   funder                 59400 non-null  object \n",
            " 1   gps_height             59400 non-null  int64  \n",
            " 2   installer              59400 non-null  object \n",
            " 3   longitude              59400 non-null  float64\n",
            " 4   latitude               59400 non-null  float64\n",
            " 5   basin                  59400 non-null  object \n",
            " 6   region                 59400 non-null  object \n",
            " 7   district_code          59400 non-null  int64  \n",
            " 8   lga                    59400 non-null  object \n",
            " 9   ward                   59400 non-null  object \n",
            " 10  population             59400 non-null  int64  \n",
            " 11  public_meeting         59400 non-null  bool   \n",
            " 12  permit                 59400 non-null  bool   \n",
            " 13  construction_year      59400 non-null  int64  \n",
            " 14  extraction_type_group  59400 non-null  object \n",
            " 15  management             59400 non-null  object \n",
            " 16  payment                59400 non-null  object \n",
            " 17  water_quality          59400 non-null  object \n",
            " 18  quantity               59400 non-null  object \n",
            " 19  source                 59400 non-null  object \n",
            " 20  waterpoint_type        59400 non-null  object \n",
            " 21  decade                 59400 non-null  object \n",
            " 22  installer_cat          59400 non-null  object \n",
            " 23  funder_cat             59400 non-null  object \n",
            " 24  train                  59400 non-null  int64  \n",
            "dtypes: bool(2), float64(2), int64(5), object(16)\n",
            "memory usage: 10.5+ MB\n"
          ]
        }
      ]
    },
    {
      "cell_type": "code",
      "metadata": {
        "colab": {
          "base_uri": "https://localhost:8080/"
        },
        "id": "TCWuATX4M8Fx",
        "outputId": "b722f3b1-15f1-42e6-c9ff-3aa2d7aba608"
      },
      "source": [
        "train_data.shape,test_data.shape"
      ],
      "execution_count": null,
      "outputs": [
        {
          "output_type": "execute_result",
          "data": {
            "text/plain": [
              "((59400, 25), (14850, 25))"
            ]
          },
          "metadata": {},
          "execution_count": 6
        }
      ]
    },
    {
      "cell_type": "code",
      "metadata": {
        "id": "xQAVOKOnNCVy"
      },
      "source": [
        "combined = pd.concat([train_data, test_data])"
      ],
      "execution_count": null,
      "outputs": []
    },
    {
      "cell_type": "code",
      "metadata": {
        "colab": {
          "base_uri": "https://localhost:8080/"
        },
        "id": "q5pEbLfzNLwA",
        "outputId": "bbd7c2e3-5a03-4979-ed5b-50deb24edbbc"
      },
      "source": [
        "combined.drop('construction_year',axis=1,inplace=True)\n",
        "# combined.drop(columns=['ward', 'installer'],inplace=True )\n",
        "combined.info()"
      ],
      "execution_count": null,
      "outputs": [
        {
          "output_type": "stream",
          "name": "stdout",
          "text": [
            "<class 'pandas.core.frame.DataFrame'>\n",
            "Int64Index: 74250 entries, 0 to 14849\n",
            "Data columns (total 22 columns):\n",
            " #   Column                 Non-Null Count  Dtype  \n",
            "---  ------                 --------------  -----  \n",
            " 0   funder                 74250 non-null  object \n",
            " 1   gps_height             74250 non-null  int64  \n",
            " 2   longitude              74250 non-null  float64\n",
            " 3   latitude               74250 non-null  float64\n",
            " 4   basin                  74250 non-null  object \n",
            " 5   region                 74250 non-null  object \n",
            " 6   district_code          74250 non-null  int64  \n",
            " 7   lga                    74250 non-null  object \n",
            " 8   population             74250 non-null  int64  \n",
            " 9   public_meeting         74250 non-null  bool   \n",
            " 10  permit                 74250 non-null  bool   \n",
            " 11  extraction_type_group  74250 non-null  object \n",
            " 12  management             74250 non-null  object \n",
            " 13  payment                74250 non-null  object \n",
            " 14  water_quality          74250 non-null  object \n",
            " 15  quantity               74250 non-null  object \n",
            " 16  source                 74250 non-null  object \n",
            " 17  waterpoint_type        74250 non-null  object \n",
            " 18  decade                 74250 non-null  object \n",
            " 19  installer_cat          74250 non-null  object \n",
            " 20  funder_cat             74250 non-null  object \n",
            " 21  train                  74250 non-null  int64  \n",
            "dtypes: bool(2), float64(2), int64(4), object(14)\n",
            "memory usage: 12.0+ MB\n"
          ]
        }
      ]
    },
    {
      "cell_type": "code",
      "metadata": {
        "colab": {
          "base_uri": "https://localhost:8080/"
        },
        "id": "lzOkJkXHNerT",
        "outputId": "aa5867ad-92f8-426c-f13b-27e16cecb504"
      },
      "source": [
        "combined['funder'] = pd.factorize(combined['funder'])[0]\n",
        "combined['extraction_type_group'] = pd.factorize(combined['extraction_type_group'])[0]\n",
        "combined['management'] = pd.factorize(combined['management'])[0]\n",
        "combined['payment'] = pd.factorize(combined['payment'])[0]\n",
        "combined['water_quality'] = pd.factorize(combined['water_quality'])[0]\n",
        "combined['quantity'] = pd.factorize(combined['quantity'])[0]\n",
        "combined['source'] = pd.factorize(combined['source'])[0]\n",
        "combined['waterpoint_type'] = pd.factorize(combined['waterpoint_type'])[0]\n",
        "combined['basin'] = pd.factorize(combined['basin'])[0]\n",
        "combined['region'] = pd.factorize(combined['region'])[0]\n",
        "combined['lga'] = pd.factorize(combined['lga'])[0]\n",
        "combined['ward'] = pd.factorize(combined['ward'])[0]\n",
        "combined['district_code'] = pd.factorize(combined['district_code'])[0]\n",
        "combined['funder_cat'] = pd.factorize(combined['funder_cat'])[0]\n",
        "combined['installer_cat'] = pd.factorize(combined['installer_cat'])[0]\n",
        "combined.district_code.head(5)"
      ],
      "execution_count": null,
      "outputs": [
        {
          "output_type": "execute_result",
          "data": {
            "text/plain": [
              "0    0\n",
              "1    1\n",
              "2    2\n",
              "3    3\n",
              "4    4\n",
              "Name: district_code, dtype: int64"
            ]
          },
          "metadata": {},
          "execution_count": 9
        }
      ]
    },
    {
      "cell_type": "code",
      "metadata": {
        "id": "vyxVcLNcRvy0"
      },
      "source": [
        "combined['decade'] = pd.factorize(combined['decade'])[0]\n",
        "combined['installer'] = pd.factorize(combined['installer'])[0]"
      ],
      "execution_count": null,
      "outputs": []
    },
    {
      "cell_type": "code",
      "metadata": {
        "colab": {
          "base_uri": "https://localhost:8080/"
        },
        "id": "BVVkbyzqR-ZV",
        "outputId": "71ba7988-cef7-49a3-e07d-ded1ea300424"
      },
      "source": [
        "combined.info()"
      ],
      "execution_count": null,
      "outputs": [
        {
          "output_type": "stream",
          "name": "stdout",
          "text": [
            "<class 'pandas.core.frame.DataFrame'>\n",
            "Int64Index: 74250 entries, 0 to 14849\n",
            "Data columns (total 22 columns):\n",
            " #   Column                 Non-Null Count  Dtype  \n",
            "---  ------                 --------------  -----  \n",
            " 0   funder                 74250 non-null  int64  \n",
            " 1   gps_height             74250 non-null  int64  \n",
            " 2   longitude              74250 non-null  float64\n",
            " 3   latitude               74250 non-null  float64\n",
            " 4   basin                  74250 non-null  int64  \n",
            " 5   region                 74250 non-null  int64  \n",
            " 6   district_code          74250 non-null  int64  \n",
            " 7   lga                    74250 non-null  int64  \n",
            " 8   population             74250 non-null  int64  \n",
            " 9   public_meeting         74250 non-null  bool   \n",
            " 10  permit                 74250 non-null  bool   \n",
            " 11  extraction_type_group  74250 non-null  int64  \n",
            " 12  management             74250 non-null  int64  \n",
            " 13  payment                74250 non-null  int64  \n",
            " 14  water_quality          74250 non-null  int64  \n",
            " 15  quantity               74250 non-null  int64  \n",
            " 16  source                 74250 non-null  int64  \n",
            " 17  waterpoint_type        74250 non-null  int64  \n",
            " 18  decade                 74250 non-null  int64  \n",
            " 19  installer_cat          74250 non-null  int64  \n",
            " 20  funder_cat             74250 non-null  int64  \n",
            " 21  train                  74250 non-null  int64  \n",
            "dtypes: bool(2), float64(2), int64(18)\n",
            "memory usage: 12.0 MB\n"
          ]
        }
      ]
    },
    {
      "cell_type": "code",
      "metadata": {
        "colab": {
          "base_uri": "https://localhost:8080/"
        },
        "id": "aB90KzwuNgTE",
        "outputId": "65174321-733d-4a30-a9fa-f290f5d02bb5"
      },
      "source": [
        "train_df = combined[combined[\"train\"] == 1]\n",
        "test_df = combined[combined[\"train\"] == 0]\n",
        "train_df.drop([\"train\"], axis=1, inplace=True)\n",
        "test_df.drop([\"train\"], axis=1, inplace=True)"
      ],
      "execution_count": null,
      "outputs": [
        {
          "output_type": "stream",
          "name": "stderr",
          "text": [
            "/usr/local/lib/python3.7/dist-packages/pandas/core/frame.py:4174: SettingWithCopyWarning: \n",
            "A value is trying to be set on a copy of a slice from a DataFrame\n",
            "\n",
            "See the caveats in the documentation: https://pandas.pydata.org/pandas-docs/stable/user_guide/indexing.html#returning-a-view-versus-a-copy\n",
            "  errors=errors,\n"
          ]
        }
      ]
    },
    {
      "cell_type": "code",
      "metadata": {
        "id": "21qb14UeNgaQ"
      },
      "source": [
        "#define X train\n",
        "X = train_df\n",
        "#y_train indentified at the beginning \n",
        "y = target"
      ],
      "execution_count": null,
      "outputs": []
    },
    {
      "cell_type": "code",
      "metadata": {
        "id": "3v0g8wuAQj0A"
      },
      "source": [
        "from sklearn.ensemble import RandomForestClassifier\n",
        "model_rfc = RandomForestClassifier(n_estimators=1000)"
      ],
      "execution_count": null,
      "outputs": []
    },
    {
      "cell_type": "code",
      "metadata": {
        "colab": {
          "base_uri": "https://localhost:8080/"
        },
        "id": "XRlUNnBORYIA",
        "outputId": "a5245562-2025-4948-cb5d-8fa61d23c4a7"
      },
      "source": [
        "X.info()"
      ],
      "execution_count": null,
      "outputs": [
        {
          "output_type": "stream",
          "name": "stdout",
          "text": [
            "<class 'pandas.core.frame.DataFrame'>\n",
            "Int64Index: 59400 entries, 0 to 59399\n",
            "Data columns (total 21 columns):\n",
            " #   Column                 Non-Null Count  Dtype  \n",
            "---  ------                 --------------  -----  \n",
            " 0   funder                 59400 non-null  int64  \n",
            " 1   gps_height             59400 non-null  int64  \n",
            " 2   longitude              59400 non-null  float64\n",
            " 3   latitude               59400 non-null  float64\n",
            " 4   basin                  59400 non-null  int64  \n",
            " 5   region                 59400 non-null  int64  \n",
            " 6   district_code          59400 non-null  int64  \n",
            " 7   lga                    59400 non-null  int64  \n",
            " 8   population             59400 non-null  int64  \n",
            " 9   public_meeting         59400 non-null  bool   \n",
            " 10  permit                 59400 non-null  bool   \n",
            " 11  extraction_type_group  59400 non-null  int64  \n",
            " 12  management             59400 non-null  int64  \n",
            " 13  payment                59400 non-null  int64  \n",
            " 14  water_quality          59400 non-null  int64  \n",
            " 15  quantity               59400 non-null  int64  \n",
            " 16  source                 59400 non-null  int64  \n",
            " 17  waterpoint_type        59400 non-null  int64  \n",
            " 18  decade                 59400 non-null  int64  \n",
            " 19  installer_cat          59400 non-null  int64  \n",
            " 20  funder_cat             59400 non-null  int64  \n",
            "dtypes: bool(2), float64(2), int64(17)\n",
            "memory usage: 9.2 MB\n"
          ]
        }
      ]
    },
    {
      "cell_type": "code",
      "metadata": {
        "colab": {
          "base_uri": "https://localhost:8080/"
        },
        "id": "TjhfKG6QQojK",
        "outputId": "be199fa5-de3e-409f-c2b7-447c65d47361"
      },
      "source": [
        "from sklearn.model_selection import cross_val_score\n",
        "cross_val_score(model_rfc, X, y, cv=3)"
      ],
      "execution_count": null,
      "outputs": [
        {
          "output_type": "execute_result",
          "data": {
            "text/plain": [
              "array([0.80272727, 0.80252525, 0.80116162])"
            ]
          },
          "metadata": {},
          "execution_count": 16
        }
      ]
    },
    {
      "cell_type": "code",
      "metadata": {
        "colab": {
          "base_uri": "https://localhost:8080/"
        },
        "id": "J-bnXGAxSQwk",
        "outputId": "a51b2251-849d-462f-eb2c-527ae242fd0f"
      },
      "source": [
        "model_rfc.fit(X,y)\n",
        "X.info()\n",
        "importances = model_rfc.feature_importances_\n",
        "importances"
      ],
      "execution_count": null,
      "outputs": [
        {
          "output_type": "stream",
          "name": "stdout",
          "text": [
            "<class 'pandas.core.frame.DataFrame'>\n",
            "Int64Index: 59400 entries, 0 to 59399\n",
            "Data columns (total 21 columns):\n",
            " #   Column                 Non-Null Count  Dtype  \n",
            "---  ------                 --------------  -----  \n",
            " 0   funder                 59400 non-null  int64  \n",
            " 1   gps_height             59400 non-null  int64  \n",
            " 2   longitude              59400 non-null  float64\n",
            " 3   latitude               59400 non-null  float64\n",
            " 4   basin                  59400 non-null  int64  \n",
            " 5   region                 59400 non-null  int64  \n",
            " 6   district_code          59400 non-null  int64  \n",
            " 7   lga                    59400 non-null  int64  \n",
            " 8   population             59400 non-null  int64  \n",
            " 9   public_meeting         59400 non-null  bool   \n",
            " 10  permit                 59400 non-null  bool   \n",
            " 11  extraction_type_group  59400 non-null  int64  \n",
            " 12  management             59400 non-null  int64  \n",
            " 13  payment                59400 non-null  int64  \n",
            " 14  water_quality          59400 non-null  int64  \n",
            " 15  quantity               59400 non-null  int64  \n",
            " 16  source                 59400 non-null  int64  \n",
            " 17  waterpoint_type        59400 non-null  int64  \n",
            " 18  decade                 59400 non-null  int64  \n",
            " 19  installer_cat          59400 non-null  int64  \n",
            " 20  funder_cat             59400 non-null  int64  \n",
            "dtypes: bool(2), float64(2), int64(17)\n",
            "memory usage: 9.2 MB\n"
          ]
        },
        {
          "output_type": "execute_result",
          "data": {
            "text/plain": [
              "array([0.04243311, 0.07764169, 0.15529654, 0.1529554 , 0.01766868,\n",
              "       0.02390234, 0.02268399, 0.03265744, 0.05281015, 0.00738863,\n",
              "       0.0085127 , 0.05311783, 0.02114195, 0.03420856, 0.01466516,\n",
              "       0.11360684, 0.03042216, 0.05800408, 0.03371124, 0.02400132,\n",
              "       0.02317019])"
            ]
          },
          "metadata": {},
          "execution_count": 17
        }
      ]
    },
    {
      "cell_type": "code",
      "metadata": {
        "colab": {
          "base_uri": "https://localhost:8080/"
        },
        "id": "q91p_D3lTQWv",
        "outputId": "29d43984-b996-4203-b484-ddacc5a92284"
      },
      "source": [
        "importances = model_rfc.feature_importances_\n",
        "importances\n",
        "indices = np.argsort(importances)[::-1]\n",
        "\n",
        "# Print the feature ranking\n",
        "print(\"Feature ranking:\")\n",
        "\n",
        "for f in range(X.shape[1]):\n",
        "    print(\"%d. feature %d (%f)\" % (f + 1, indices[f], importances[indices[f]]))\n",
        "\n",
        "for f in range(X.shape[1]):\n",
        "    print(X.columns[indices[f]],end=', ')"
      ],
      "execution_count": null,
      "outputs": [
        {
          "output_type": "stream",
          "name": "stdout",
          "text": [
            "Feature ranking:\n",
            "1. feature 2 (0.155297)\n",
            "2. feature 3 (0.152955)\n",
            "3. feature 15 (0.113607)\n",
            "4. feature 1 (0.077642)\n",
            "5. feature 17 (0.058004)\n",
            "6. feature 11 (0.053118)\n",
            "7. feature 8 (0.052810)\n",
            "8. feature 0 (0.042433)\n",
            "9. feature 13 (0.034209)\n",
            "10. feature 18 (0.033711)\n",
            "11. feature 7 (0.032657)\n",
            "12. feature 16 (0.030422)\n",
            "13. feature 19 (0.024001)\n",
            "14. feature 5 (0.023902)\n",
            "15. feature 20 (0.023170)\n",
            "16. feature 6 (0.022684)\n",
            "17. feature 12 (0.021142)\n",
            "18. feature 4 (0.017669)\n",
            "19. feature 14 (0.014665)\n",
            "20. feature 10 (0.008513)\n",
            "21. feature 9 (0.007389)\n",
            "longitude, latitude, quantity, gps_height, waterpoint_type, extraction_type_group, population, funder, payment, decade, lga, source, installer_cat, region, funder_cat, district_code, management, basin, water_quality, permit, public_meeting, "
          ]
        }
      ]
    },
    {
      "cell_type": "code",
      "metadata": {
        "id": "tdi_gdyETg6V"
      },
      "source": [
        "X_test=test_df"
      ],
      "execution_count": null,
      "outputs": []
    },
    {
      "cell_type": "code",
      "metadata": {
        "colab": {
          "base_uri": "https://localhost:8080/"
        },
        "id": "igXlrBFeToPI",
        "outputId": "d3bd4e37-1549-42c4-caf3-4b55cd5be30f"
      },
      "source": [
        "model_rfc.fit(X,y)"
      ],
      "execution_count": null,
      "outputs": [
        {
          "output_type": "execute_result",
          "data": {
            "text/plain": [
              "RandomForestClassifier(bootstrap=True, ccp_alpha=0.0, class_weight=None,\n",
              "                       criterion='gini', max_depth=None, max_features='auto',\n",
              "                       max_leaf_nodes=None, max_samples=None,\n",
              "                       min_impurity_decrease=0.0, min_impurity_split=None,\n",
              "                       min_samples_leaf=1, min_samples_split=2,\n",
              "                       min_weight_fraction_leaf=0.0, n_estimators=1000,\n",
              "                       n_jobs=None, oob_score=False, random_state=None,\n",
              "                       verbose=0, warm_start=False)"
            ]
          },
          "metadata": {},
          "execution_count": 21
        }
      ]
    },
    {
      "cell_type": "code",
      "metadata": {
        "colab": {
          "base_uri": "https://localhost:8080/"
        },
        "id": "36KSpnL0UYQh",
        "outputId": "0fb33d2a-3457-4b28-c9b3-8f162b329c5e"
      },
      "source": [
        "X_test.info()"
      ],
      "execution_count": null,
      "outputs": [
        {
          "output_type": "stream",
          "name": "stdout",
          "text": [
            "<class 'pandas.core.frame.DataFrame'>\n",
            "Int64Index: 14850 entries, 0 to 14849\n",
            "Data columns (total 21 columns):\n",
            " #   Column                 Non-Null Count  Dtype  \n",
            "---  ------                 --------------  -----  \n",
            " 0   funder                 14850 non-null  int64  \n",
            " 1   gps_height             14850 non-null  int64  \n",
            " 2   longitude              14850 non-null  float64\n",
            " 3   latitude               14850 non-null  float64\n",
            " 4   basin                  14850 non-null  int64  \n",
            " 5   region                 14850 non-null  int64  \n",
            " 6   district_code          14850 non-null  int64  \n",
            " 7   lga                    14850 non-null  int64  \n",
            " 8   population             14850 non-null  int64  \n",
            " 9   public_meeting         14850 non-null  bool   \n",
            " 10  permit                 14850 non-null  bool   \n",
            " 11  extraction_type_group  14850 non-null  int64  \n",
            " 12  management             14850 non-null  int64  \n",
            " 13  payment                14850 non-null  int64  \n",
            " 14  water_quality          14850 non-null  int64  \n",
            " 15  quantity               14850 non-null  int64  \n",
            " 16  source                 14850 non-null  int64  \n",
            " 17  waterpoint_type        14850 non-null  int64  \n",
            " 18  decade                 14850 non-null  int64  \n",
            " 19  installer_cat          14850 non-null  int64  \n",
            " 20  funder_cat             14850 non-null  int64  \n",
            "dtypes: bool(2), float64(2), int64(17)\n",
            "memory usage: 2.3 MB\n"
          ]
        }
      ]
    },
    {
      "cell_type": "code",
      "metadata": {
        "id": "1gr5_2FtTsed"
      },
      "source": [
        "# a=X_test['id']\n",
        "# X_test.drop(['id'],axis=1, inplace=True)\n",
        "y_pred = model_rfc.predict(X_test)"
      ],
      "execution_count": null,
      "outputs": []
    },
    {
      "cell_type": "code",
      "metadata": {
        "id": "7ML-sdNyUpBp"
      },
      "source": [
        "submission = pd.read_csv('/content/drive/MyDrive/ML Project/SubmissionFormat.csv')"
      ],
      "execution_count": null,
      "outputs": []
    },
    {
      "cell_type": "code",
      "metadata": {
        "colab": {
          "base_uri": "https://localhost:8080/",
          "height": 204
        },
        "id": "CJaRjB5xVRiI",
        "outputId": "ccbf3555-4f14-4a07-acad-6b338416c5ae"
      },
      "source": [
        "submission.head()"
      ],
      "execution_count": null,
      "outputs": [
        {
          "output_type": "execute_result",
          "data": {
            "text/html": [
              "<div>\n",
              "<style scoped>\n",
              "    .dataframe tbody tr th:only-of-type {\n",
              "        vertical-align: middle;\n",
              "    }\n",
              "\n",
              "    .dataframe tbody tr th {\n",
              "        vertical-align: top;\n",
              "    }\n",
              "\n",
              "    .dataframe thead th {\n",
              "        text-align: right;\n",
              "    }\n",
              "</style>\n",
              "<table border=\"1\" class=\"dataframe\">\n",
              "  <thead>\n",
              "    <tr style=\"text-align: right;\">\n",
              "      <th></th>\n",
              "      <th>id</th>\n",
              "      <th>status_group</th>\n",
              "    </tr>\n",
              "  </thead>\n",
              "  <tbody>\n",
              "    <tr>\n",
              "      <th>0</th>\n",
              "      <td>50785</td>\n",
              "      <td>predicted label</td>\n",
              "    </tr>\n",
              "    <tr>\n",
              "      <th>1</th>\n",
              "      <td>51630</td>\n",
              "      <td>predicted label</td>\n",
              "    </tr>\n",
              "    <tr>\n",
              "      <th>2</th>\n",
              "      <td>17168</td>\n",
              "      <td>predicted label</td>\n",
              "    </tr>\n",
              "    <tr>\n",
              "      <th>3</th>\n",
              "      <td>45559</td>\n",
              "      <td>predicted label</td>\n",
              "    </tr>\n",
              "    <tr>\n",
              "      <th>4</th>\n",
              "      <td>49871</td>\n",
              "      <td>predicted label</td>\n",
              "    </tr>\n",
              "  </tbody>\n",
              "</table>\n",
              "</div>"
            ],
            "text/plain": [
              "      id     status_group\n",
              "0  50785  predicted label\n",
              "1  51630  predicted label\n",
              "2  17168  predicted label\n",
              "3  45559  predicted label\n",
              "4  49871  predicted label"
            ]
          },
          "metadata": {},
          "execution_count": 25
        }
      ]
    },
    {
      "cell_type": "code",
      "metadata": {
        "id": "SudPKOVkVpvn"
      },
      "source": [
        "y_pred=pd.DataFrame(y_pred)\n",
        "y_pred.columns=['status_group']"
      ],
      "execution_count": null,
      "outputs": []
    },
    {
      "cell_type": "code",
      "metadata": {
        "id": "I3DBSWjRVzcB"
      },
      "source": [
        "y_pred=y_pred[['status_group']]"
      ],
      "execution_count": null,
      "outputs": []
    },
    {
      "cell_type": "code",
      "metadata": {
        "colab": {
          "base_uri": "https://localhost:8080/",
          "height": 204
        },
        "id": "yiHw07X-V-oC",
        "outputId": "e3791547-c1d0-4fb9-f607-2ae1d4d5790b"
      },
      "source": [
        "y_pred.head()"
      ],
      "execution_count": null,
      "outputs": [
        {
          "output_type": "execute_result",
          "data": {
            "text/html": [
              "<div>\n",
              "<style scoped>\n",
              "    .dataframe tbody tr th:only-of-type {\n",
              "        vertical-align: middle;\n",
              "    }\n",
              "\n",
              "    .dataframe tbody tr th {\n",
              "        vertical-align: top;\n",
              "    }\n",
              "\n",
              "    .dataframe thead th {\n",
              "        text-align: right;\n",
              "    }\n",
              "</style>\n",
              "<table border=\"1\" class=\"dataframe\">\n",
              "  <thead>\n",
              "    <tr style=\"text-align: right;\">\n",
              "      <th></th>\n",
              "      <th>status_group</th>\n",
              "    </tr>\n",
              "  </thead>\n",
              "  <tbody>\n",
              "    <tr>\n",
              "      <th>0</th>\n",
              "      <td>0</td>\n",
              "    </tr>\n",
              "    <tr>\n",
              "      <th>1</th>\n",
              "      <td>0</td>\n",
              "    </tr>\n",
              "    <tr>\n",
              "      <th>2</th>\n",
              "      <td>0</td>\n",
              "    </tr>\n",
              "    <tr>\n",
              "      <th>3</th>\n",
              "      <td>2</td>\n",
              "    </tr>\n",
              "    <tr>\n",
              "      <th>4</th>\n",
              "      <td>0</td>\n",
              "    </tr>\n",
              "  </tbody>\n",
              "</table>\n",
              "</div>"
            ],
            "text/plain": [
              "   status_group\n",
              "0             0\n",
              "1             0\n",
              "2             0\n",
              "3             2\n",
              "4             0"
            ]
          },
          "metadata": {},
          "execution_count": 28
        }
      ]
    },
    {
      "cell_type": "code",
      "metadata": {
        "id": "3_rLyIpRWYm3"
      },
      "source": [
        "target_status_group = {0:'functional',\n",
        "                        2:'non functional', \n",
        "                       1:'functional needs repair'} \n",
        "y_pred['status_group'] = y_pred['status_group'].replace(target_status_group)"
      ],
      "execution_count": null,
      "outputs": []
    },
    {
      "cell_type": "code",
      "metadata": {
        "colab": {
          "base_uri": "https://localhost:8080/",
          "height": 204
        },
        "id": "rSTvIrW8WyNU",
        "outputId": "035679b8-211b-4a25-8523-045c7da12fca"
      },
      "source": [
        "y_pred.head()"
      ],
      "execution_count": null,
      "outputs": [
        {
          "output_type": "execute_result",
          "data": {
            "text/html": [
              "<div>\n",
              "<style scoped>\n",
              "    .dataframe tbody tr th:only-of-type {\n",
              "        vertical-align: middle;\n",
              "    }\n",
              "\n",
              "    .dataframe tbody tr th {\n",
              "        vertical-align: top;\n",
              "    }\n",
              "\n",
              "    .dataframe thead th {\n",
              "        text-align: right;\n",
              "    }\n",
              "</style>\n",
              "<table border=\"1\" class=\"dataframe\">\n",
              "  <thead>\n",
              "    <tr style=\"text-align: right;\">\n",
              "      <th></th>\n",
              "      <th>status_group</th>\n",
              "    </tr>\n",
              "  </thead>\n",
              "  <tbody>\n",
              "    <tr>\n",
              "      <th>0</th>\n",
              "      <td>functional</td>\n",
              "    </tr>\n",
              "    <tr>\n",
              "      <th>1</th>\n",
              "      <td>functional</td>\n",
              "    </tr>\n",
              "    <tr>\n",
              "      <th>2</th>\n",
              "      <td>functional</td>\n",
              "    </tr>\n",
              "    <tr>\n",
              "      <th>3</th>\n",
              "      <td>non functional</td>\n",
              "    </tr>\n",
              "    <tr>\n",
              "      <th>4</th>\n",
              "      <td>functional</td>\n",
              "    </tr>\n",
              "  </tbody>\n",
              "</table>\n",
              "</div>"
            ],
            "text/plain": [
              "     status_group\n",
              "0      functional\n",
              "1      functional\n",
              "2      functional\n",
              "3  non functional\n",
              "4      functional"
            ]
          },
          "metadata": {},
          "execution_count": 30
        }
      ]
    },
    {
      "cell_type": "code",
      "metadata": {
        "colab": {
          "base_uri": "https://localhost:8080/"
        },
        "id": "tgrgBIv6W4A6",
        "outputId": "4747d105-dd95-4c41-85e0-addbfa05de5e"
      },
      "source": [
        "y_pred.info()"
      ],
      "execution_count": null,
      "outputs": [
        {
          "output_type": "stream",
          "name": "stdout",
          "text": [
            "<class 'pandas.core.frame.DataFrame'>\n",
            "RangeIndex: 14850 entries, 0 to 14849\n",
            "Data columns (total 1 columns):\n",
            " #   Column        Non-Null Count  Dtype \n",
            "---  ------        --------------  ----- \n",
            " 0   status_group  14850 non-null  object\n",
            "dtypes: object(1)\n",
            "memory usage: 116.1+ KB\n"
          ]
        }
      ]
    },
    {
      "cell_type": "code",
      "metadata": {
        "id": "EJwU4gp1XAAu"
      },
      "source": [
        "submission[\"status_group\"] = y_pred['status_group']"
      ],
      "execution_count": null,
      "outputs": []
    },
    {
      "cell_type": "code",
      "metadata": {
        "colab": {
          "base_uri": "https://localhost:8080/",
          "height": 204
        },
        "id": "mSXIpblHXZqc",
        "outputId": "49fb042b-9253-4087-b092-43df90b634fc"
      },
      "source": [
        "submission.head()"
      ],
      "execution_count": null,
      "outputs": [
        {
          "output_type": "execute_result",
          "data": {
            "text/html": [
              "<div>\n",
              "<style scoped>\n",
              "    .dataframe tbody tr th:only-of-type {\n",
              "        vertical-align: middle;\n",
              "    }\n",
              "\n",
              "    .dataframe tbody tr th {\n",
              "        vertical-align: top;\n",
              "    }\n",
              "\n",
              "    .dataframe thead th {\n",
              "        text-align: right;\n",
              "    }\n",
              "</style>\n",
              "<table border=\"1\" class=\"dataframe\">\n",
              "  <thead>\n",
              "    <tr style=\"text-align: right;\">\n",
              "      <th></th>\n",
              "      <th>id</th>\n",
              "      <th>status_group</th>\n",
              "    </tr>\n",
              "  </thead>\n",
              "  <tbody>\n",
              "    <tr>\n",
              "      <th>0</th>\n",
              "      <td>50785</td>\n",
              "      <td>functional</td>\n",
              "    </tr>\n",
              "    <tr>\n",
              "      <th>1</th>\n",
              "      <td>51630</td>\n",
              "      <td>functional</td>\n",
              "    </tr>\n",
              "    <tr>\n",
              "      <th>2</th>\n",
              "      <td>17168</td>\n",
              "      <td>functional</td>\n",
              "    </tr>\n",
              "    <tr>\n",
              "      <th>3</th>\n",
              "      <td>45559</td>\n",
              "      <td>non functional</td>\n",
              "    </tr>\n",
              "    <tr>\n",
              "      <th>4</th>\n",
              "      <td>49871</td>\n",
              "      <td>functional</td>\n",
              "    </tr>\n",
              "  </tbody>\n",
              "</table>\n",
              "</div>"
            ],
            "text/plain": [
              "      id    status_group\n",
              "0  50785      functional\n",
              "1  51630      functional\n",
              "2  17168      functional\n",
              "3  45559  non functional\n",
              "4  49871      functional"
            ]
          },
          "metadata": {},
          "execution_count": 33
        }
      ]
    },
    {
      "cell_type": "code",
      "metadata": {
        "id": "mObm24H8Xd1K"
      },
      "source": [
        "submission.to_csv('/content/drive/MyDrive/ML Project/my_submission2.csv', index=True)"
      ],
      "execution_count": null,
      "outputs": []
    },
    {
      "cell_type": "code",
      "metadata": {
        "id": "5WS9fx0kXoac"
      },
      "source": [
        "my_submission = pd.read_csv('/content/drive/MyDrive/ML Project/my_submission2.csv')"
      ],
      "execution_count": null,
      "outputs": []
    },
    {
      "cell_type": "code",
      "metadata": {
        "colab": {
          "base_uri": "https://localhost:8080/",
          "height": 204
        },
        "id": "EtGeqnk-Xv_O",
        "outputId": "20a1db73-c8e2-4251-f0ee-47ebfba60a86"
      },
      "source": [
        "my_submission.head()"
      ],
      "execution_count": null,
      "outputs": [
        {
          "output_type": "execute_result",
          "data": {
            "text/html": [
              "<div>\n",
              "<style scoped>\n",
              "    .dataframe tbody tr th:only-of-type {\n",
              "        vertical-align: middle;\n",
              "    }\n",
              "\n",
              "    .dataframe tbody tr th {\n",
              "        vertical-align: top;\n",
              "    }\n",
              "\n",
              "    .dataframe thead th {\n",
              "        text-align: right;\n",
              "    }\n",
              "</style>\n",
              "<table border=\"1\" class=\"dataframe\">\n",
              "  <thead>\n",
              "    <tr style=\"text-align: right;\">\n",
              "      <th></th>\n",
              "      <th>Unnamed: 0</th>\n",
              "      <th>id</th>\n",
              "      <th>status_group</th>\n",
              "    </tr>\n",
              "  </thead>\n",
              "  <tbody>\n",
              "    <tr>\n",
              "      <th>0</th>\n",
              "      <td>0</td>\n",
              "      <td>50785</td>\n",
              "      <td>functional</td>\n",
              "    </tr>\n",
              "    <tr>\n",
              "      <th>1</th>\n",
              "      <td>1</td>\n",
              "      <td>51630</td>\n",
              "      <td>functional</td>\n",
              "    </tr>\n",
              "    <tr>\n",
              "      <th>2</th>\n",
              "      <td>2</td>\n",
              "      <td>17168</td>\n",
              "      <td>functional</td>\n",
              "    </tr>\n",
              "    <tr>\n",
              "      <th>3</th>\n",
              "      <td>3</td>\n",
              "      <td>45559</td>\n",
              "      <td>non functional</td>\n",
              "    </tr>\n",
              "    <tr>\n",
              "      <th>4</th>\n",
              "      <td>4</td>\n",
              "      <td>49871</td>\n",
              "      <td>functional</td>\n",
              "    </tr>\n",
              "  </tbody>\n",
              "</table>\n",
              "</div>"
            ],
            "text/plain": [
              "   Unnamed: 0     id    status_group\n",
              "0           0  50785      functional\n",
              "1           1  51630      functional\n",
              "2           2  17168      functional\n",
              "3           3  45559  non functional\n",
              "4           4  49871      functional"
            ]
          },
          "metadata": {},
          "execution_count": 36
        }
      ]
    },
    {
      "cell_type": "code",
      "metadata": {
        "colab": {
          "base_uri": "https://localhost:8080/"
        },
        "id": "xDLdZ8wcYvFa",
        "outputId": "a36f1b62-b84e-4e9c-9f5d-c7f75a953dbf"
      },
      "source": [
        "!head /content/drive/MyDrive/ML Project/my_submission.csv"
      ],
      "execution_count": null,
      "outputs": [
        {
          "output_type": "stream",
          "text": [
            "head: cannot open '/content/drive/MyDrive/ML' for reading: No such file or directory\n",
            "head: cannot open 'Project/my_submission.csv' for reading: No such file or directory\n"
          ],
          "name": "stdout"
        }
      ]
    }
  ]
}